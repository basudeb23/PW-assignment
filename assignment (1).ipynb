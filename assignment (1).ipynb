{
 "cells": [
  {
   "cell_type": "code",
   "execution_count": 5,
   "id": "97705bb7-deb3-4af1-9a75-027aab4e8f76",
   "metadata": {},
   "outputs": [
    {
     "name": "stdin",
     "output_type": "stream",
     "text": [
      "enter your marks 78\n"
     ]
    },
    {
     "name": "stdout",
     "output_type": "stream",
     "text": [
      "C\n"
     ]
    }
   ],
   "source": [
    "#1\n",
    "marks=int(input(\"enter your marks\"))\n",
    "if marks>90:\n",
    "          print(\"A\")\n",
    "elif marks>80 and marks<=90:\n",
    "          print(\"B\")\n",
    "elif marks>=60 and marks<=80:\n",
    "          print(\"C\")\n",
    "else:\n",
    "          print(\"D\")"
   ]
  },
  {
   "cell_type": "code",
   "execution_count": 7,
   "id": "a24ae761-8180-4029-8471-b54594edfc16",
   "metadata": {},
   "outputs": [
    {
     "name": "stdin",
     "output_type": "stream",
     "text": [
      "cost of bike 500000\n"
     ]
    },
    {
     "name": "stdout",
     "output_type": "stream",
     "text": [
      "taxed at 15%\n"
     ]
    }
   ],
   "source": [
    "#2\n",
    "cost=int(input('cost of bike'))\n",
    "if cost>100000:\n",
    "         print('taxed at 15%')\n",
    "elif cost>50000 and cost<=100000:\n",
    "    print('taxed at 10%')\n",
    "else:\n",
    "    print('taxed at 5%')"
   ]
  },
  {
   "cell_type": "code",
   "execution_count": 9,
   "id": "fab7471c-8fb2-4025-8b82-f304cb3b032d",
   "metadata": {},
   "outputs": [
    {
     "name": "stdin",
     "output_type": "stream",
     "text": [
      "enter your city name Delhi\n"
     ]
    },
    {
     "name": "stdout",
     "output_type": "stream",
     "text": [
      "Red fort\n"
     ]
    }
   ],
   "source": [
    "#3\n",
    "city=str(input('enter your city name'))\n",
    "if city=='Delhi':\n",
    "    print('Red fort')\n",
    "elif city== 'Agra':\n",
    "    print('Taj Mahal')\n",
    "elif city=='Jaipur':\n",
    "    print('Jal Mahal')"
   ]
  },
  {
   "cell_type": "code",
   "execution_count": 1,
   "id": "f097c816-3b37-423a-b10f-4e689d963969",
   "metadata": {},
   "outputs": [
    {
     "name": "stdin",
     "output_type": "stream",
     "text": [
      "Enter a number:  12\n"
     ]
    },
    {
     "name": "stdout",
     "output_type": "stream",
     "text": [
      "1 times before it is less than or equal to 10.\n"
     ]
    }
   ],
   "source": [
    "#4\n",
    "num = int(input(\"Enter a number: \"))  \n",
    "\n",
    "count = 0  \n",
    "\n",
    "while num > 10:  \n",
    "    num /= 3  \n",
    "    count += 1  \n",
    "\n",
    "print( count, \"times before it is less than or equal to 10.\")\n",
    "\n"
   ]
  },
  {
   "cell_type": "code",
   "execution_count": 4,
   "id": "1dacebbb-0db5-4534-aeba-5fcec68ac9b5",
   "metadata": {},
   "outputs": [],
   "source": [
    "#5\n",
    "#whileloop checks the conditions first and then goes for the other criterias orderwise."
   ]
  },
  {
   "cell_type": "code",
   "execution_count": 1,
   "id": "d71f14e9-633b-485a-8129-c9fca97b7f9f",
   "metadata": {},
   "outputs": [
    {
     "name": "stdout",
     "output_type": "stream",
     "text": [
      "*\n",
      "**\n",
      "***\n",
      "****\n",
      "*****\n"
     ]
    }
   ],
   "source": [
    "#6\n",
    "i = 1\n",
    "while i <= 5:\n",
    "    j = 1\n",
    "    while j <= i:\n",
    "        print(\"*\", end=\"\")\n",
    "        j += 1\n",
    "    print()\n",
    "    i += 1\n"
   ]
  },
  {
   "cell_type": "code",
   "execution_count": 6,
   "id": "aa550503-2260-4618-b1e6-01b505a314e9",
   "metadata": {},
   "outputs": [
    {
     "name": "stdout",
     "output_type": "stream",
     "text": [
      "^^^^^^\n",
      "^^^^^\n",
      "^^^^\n",
      "^^^\n",
      "^^\n",
      "^\n"
     ]
    }
   ],
   "source": [
    "i=6\n",
    "while i>=1:\n",
    "    j=1\n",
    "    while j<=i:\n",
    "        print(\"^\",end=\"\")\n",
    "        j+=1\n",
    "    print()\n",
    "    i-=1"
   ]
  },
  {
   "cell_type": "code",
   "execution_count": 7,
   "id": "c82c77b4-0b83-44ad-9831-0a1a8e8f29b3",
   "metadata": {},
   "outputs": [
    {
     "name": "stdout",
     "output_type": "stream",
     "text": [
      "%\n",
      "%\n",
      "%\n",
      "%\n",
      "%\n",
      "%\n",
      "\n",
      "%\n",
      "%\n",
      "%\n",
      "%\n",
      "%\n",
      "\n",
      "%\n",
      "%\n",
      "%\n",
      "%\n",
      "\n",
      "%\n",
      "%\n",
      "%\n",
      "\n",
      "%\n",
      "%\n",
      "\n",
      "%\n",
      "\n"
     ]
    }
   ],
   "source": [
    "i=6\n",
    "while i>=1:\n",
    "    j=1\n",
    "    while j<=i:\n",
    "        print(\"%\")\n",
    "        j+=1\n",
    "    print()\n",
    "    i-=1"
   ]
  },
  {
   "cell_type": "code",
   "execution_count": null,
   "id": "a0d80e96-0234-47f8-9aa8-85bdfe42ae4d",
   "metadata": {},
   "outputs": [],
   "source": []
  }
 ],
 "metadata": {
  "kernelspec": {
   "display_name": "Python 3 (ipykernel)",
   "language": "python",
   "name": "python3"
  },
  "language_info": {
   "codemirror_mode": {
    "name": "ipython",
    "version": 3
   },
   "file_extension": ".py",
   "mimetype": "text/x-python",
   "name": "python",
   "nbconvert_exporter": "python",
   "pygments_lexer": "ipython3",
   "version": "3.10.8"
  }
 },
 "nbformat": 4,
 "nbformat_minor": 5
}
