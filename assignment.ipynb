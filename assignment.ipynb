{
 "cells": [
  {
   "cell_type": "code",
   "execution_count": null,
   "id": "97705bb7-deb3-4af1-9a75-027aab4e8f76",
   "metadata": {},
   "outputs": [],
   "source": [
    "1. Guido van Rossum\n",
    "2. Object oriented, structured programming\n",
    "3. Yes\n",
    "4. .pyc\n",
    "5. Interpreted\n",
    "6. module, functions\n",
    "7. hashtags\n",
    "8. Python_version ()\n",
    "9. lambda\n",
    "10. Preferred Installer Program\n",
    "11. Remove pop extend append\n",
    "12. 79 characters\n",
    "13. simple, easy to understand, interpreted lang\n",
    "14. Python memory management\n",
    "15. Steps:\n",
    "    Right-clicking This PC and going to Properties.\n",
    "\n",
    "     Clicking on the Advanced system settings in the menu on the left.\n",
    "\n",
    "     Clicking on the Environment Variables button o​n the bottom right.\n",
    "\n",
    "     In the System variables section, selecting the Path variable and clicking on Edit. The next screen will show all the directories that are currently a part of the PATH variable.\n",
    "\n",
    "     Clicking on New and entering Python’s install directory.\n",
    "16. Yes\n"
   ]
  }
 ],
 "metadata": {
  "kernelspec": {
   "display_name": "Python 3 (ipykernel)",
   "language": "python",
   "name": "python3"
  },
  "language_info": {
   "codemirror_mode": {
    "name": "ipython",
    "version": 3
   },
   "file_extension": ".py",
   "mimetype": "text/x-python",
   "name": "python",
   "nbconvert_exporter": "python",
   "pygments_lexer": "ipython3",
   "version": "3.10.8"
  }
 },
 "nbformat": 4,
 "nbformat_minor": 5
}
