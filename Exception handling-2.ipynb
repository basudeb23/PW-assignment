{
 "cells": [
  {
   "cell_type": "code",
   "execution_count": 1,
   "id": "fa7cee00-7da8-4634-8e02-d22e67ce0351",
   "metadata": {},
   "outputs": [],
   "source": [
    "#1 It is used so that all the default exception criterias will be applied to the code"
   ]
  },
  {
   "cell_type": "code",
   "execution_count": 2,
   "id": "17f59480-fdde-49df-98c8-7c9d7020da13",
   "metadata": {},
   "outputs": [],
   "source": [
    "#2 I dont know the ans"
   ]
  },
  {
   "cell_type": "code",
   "execution_count": 9,
   "id": "78874911-9d24-4b43-ac08-6de5270370aa",
   "metadata": {},
   "outputs": [
    {
     "name": "stdout",
     "output_type": "stream",
     "text": [
      "no division by zero\n"
     ]
    }
   ],
   "source": [
    "#3\n",
    "#ZeroDivisionError\n",
    "try:\n",
    "    10/0\n",
    "except ZeroDivisionError as e:\n",
    "    print ('no',e)"
   ]
  },
  {
   "cell_type": "code",
   "execution_count": 11,
   "id": "1e2883b0-c151-4f3f-bb2d-b8c8c8cf2d0f",
   "metadata": {},
   "outputs": [
    {
     "name": "stdout",
     "output_type": "stream",
     "text": [
      "Result: 18446744073709551614\n"
     ]
    }
   ],
   "source": [
    "#OverflowError\n",
    "import sys\n",
    "\n",
    "large_number = sys.maxsize\n",
    "Result = large_number * 2\n",
    "\n",
    "try:\n",
    "    print(\"Result:\", result)\n",
    "except OverflowError:\n",
    "    print(\"Error: Arithmetic overflow!\")\n"
   ]
  },
  {
   "cell_type": "code",
   "execution_count": 3,
   "id": "9b3b9ff0-6e34-4ed9-8fc0-971310590fff",
   "metadata": {},
   "outputs": [
    {
     "name": "stdout",
     "output_type": "stream",
     "text": [
      "Error: Key not found!\n",
      "Error: Index out of range!\n"
     ]
    }
   ],
   "source": [
    "#4\n",
    "#lookup error gets executed when there is a mistake in indexing.\n",
    "#KeyError eg:\n",
    "my_dict = {\"apple\": 1, \"banana\": 2, \"orange\": 3}\n",
    "\n",
    "try:\n",
    "    value = my_dict[\"grape\"]\n",
    "    print(\"Value:\", value)\n",
    "except KeyError:\n",
    "    print(\"Error: Key not found!\")\n",
    "\n",
    "    \n",
    "#IndexError\n",
    "my_list = [1, 2, 3]\n",
    "\n",
    "try:\n",
    "    value = my_list[3]\n",
    "    print(\"Value:\", value)\n",
    "except IndexError:\n",
    "    print(\"Error: Index out of range!\")\n"
   ]
  },
  {
   "cell_type": "code",
   "execution_count": 2,
   "id": "75169c5a-e3c4-421e-a09b-0d87fbe50831",
   "metadata": {},
   "outputs": [],
   "source": [
    "#5\n",
    "#When there is an error while importing data, thats when import error arises. \n",
    "#When some module is missing, and we try to use it , module error arises."
   ]
  },
  {
   "cell_type": "code",
   "execution_count": 3,
   "id": "8b4f3d8a-7b51-4021-9441-01ffe1befdf0",
   "metadata": {},
   "outputs": [],
   "source": [
    "#6\n",
    "#Use name specific exceptions\n",
    "#Don't complicate using more than what is needed.\n",
    "#Always try to log your error\n",
    "#Proper message\n",
    "#document your exception"
   ]
  },
  {
   "cell_type": "code",
   "execution_count": null,
   "id": "2df858c5-7d5d-454c-a1ad-e2f1c8e142c1",
   "metadata": {},
   "outputs": [],
   "source": []
  }
 ],
 "metadata": {
  "kernelspec": {
   "display_name": "Python 3 (ipykernel)",
   "language": "python",
   "name": "python3"
  },
  "language_info": {
   "codemirror_mode": {
    "name": "ipython",
    "version": 3
   },
   "file_extension": ".py",
   "mimetype": "text/x-python",
   "name": "python",
   "nbconvert_exporter": "python",
   "pygments_lexer": "ipython3",
   "version": "3.10.8"
  }
 },
 "nbformat": 4,
 "nbformat_minor": 5
}
