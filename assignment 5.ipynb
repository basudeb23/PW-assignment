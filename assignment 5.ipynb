{
 "cells": [
  {
   "cell_type": "code",
   "execution_count": 2,
   "id": "c4a1eca1-388f-4232-9e6a-b76bb449a21e",
   "metadata": {},
   "outputs": [],
   "source": [
    "#1 \n",
    "#it is used to handle error and other exceptional errors \n",
    "#On the other hand, a syntax error is a type of error that occurs when the code violates the grammar rules of the Python language"
   ]
  },
  {
   "cell_type": "code",
   "execution_count": 2,
   "id": "b3517a37-9800-4bff-9375-862cd473a8d7",
   "metadata": {},
   "outputs": [],
   "source": [
    "#2\n",
    "#When an exception is not handled, it propagates through the program's execution stack until it reaches the default exception handler provided by Python. At this point, the program terminates, and an error message is displayed\n",
    "try :\n",
    "    f=open('f.txt','r')\n",
    "except Exception as e:\n",
    "    print('this is my except block',e)"
   ]
  },
  {
   "cell_type": "code",
   "execution_count": 4,
   "id": "1880a119-a094-4011-b9fd-329859664f42",
   "metadata": {},
   "outputs": [],
   "source": [
    "#4\n",
    "class valid(Exception):\n",
    "    def __init__(self,msg):\n",
    "        self.std=msg"
   ]
  },
  {
   "cell_type": "code",
   "execution_count": 5,
   "id": "41e3fff7-e13f-4923-b8f3-c17b67f1946e",
   "metadata": {},
   "outputs": [],
   "source": [
    "def validity(std):\n",
    "    if std<=0:\n",
    "        raise valid('not valid')\n",
    "    else:\n",
    "        print('ok')"
   ]
  },
  {
   "cell_type": "code",
   "execution_count": 6,
   "id": "5ad06530-1ab2-41fb-b094-bb3313ee53a2",
   "metadata": {},
   "outputs": [
    {
     "name": "stdin",
     "output_type": "stream",
     "text": [
      "enter std 10\n"
     ]
    },
    {
     "name": "stdout",
     "output_type": "stream",
     "text": [
      "ok\n"
     ]
    }
   ],
   "source": [
    "try:\n",
    "    std=int(input('enter std'))\n",
    "    validity(std)\n",
    "except valid as e:\n",
    "    print(e)"
   ]
  },
  {
   "cell_type": "code",
   "execution_count": 1,
   "id": "bd0d5cab-f399-4457-abc6-0f20475ffc45",
   "metadata": {},
   "outputs": [],
   "source": [
    "#5\n",
    "#Custom exceptions are used for specific cases. Answer 3 is an example of custom exception. We need it when for some specific cases like\n",
    "#age or standard which makes sense for us but not for python, for example age or standard can't be negative but python doesn't know it."
   ]
  },
  {
   "cell_type": "code",
   "execution_count": 2,
   "id": "7bb552d2-5252-4d7b-93b4-4442b6cb2d07",
   "metadata": {},
   "outputs": [
    {
     "name": "stdin",
     "output_type": "stream",
     "text": [
      "Enter a number:  23\n",
      "Enter another number:  14\n"
     ]
    },
    {
     "name": "stdout",
     "output_type": "stream",
     "text": [
      "Result: 1.6428571428571428\n"
     ]
    }
   ],
   "source": [
    "# the statements are try and except\n",
    "try:\n",
    " \n",
    "    num1 = int(input(\"Enter a number: \"))\n",
    "    num2 = int(input(\"Enter another number: \"))\n",
    "    \n",
    "    result = num1 / num2\n",
    "    print(\"Result:\", result)\n",
    "    \n",
    "except ValueError:\n",
    "    print(\"Invalid input. Please enter a valid number.\")\n",
    "    \n",
    "except ZeroDivisionError:\n",
    "    print(\"Cannot divide by zero.\")"
   ]
  },
  {
   "cell_type": "code",
   "execution_count": 8,
   "id": "32e8824c-9c3c-4eb9-830c-b49bdc4d0ffc",
   "metadata": {},
   "outputs": [],
   "source": [
    "#6\n",
    "class car_weight(Exception):\n",
    "    def __init__(self,msg):\n",
    "        self.msg=msg"
   ]
  },
  {
   "cell_type": "code",
   "execution_count": 5,
   "id": "70509ddf-ad75-44ae-8d72-91dbbc3f7db8",
   "metadata": {},
   "outputs": [],
   "source": [
    "def weighting(weight):\n",
    "    if weight<0:\n",
    "        raise car_weight('invalid')\n",
    "    else:\n",
    "        print('ok')"
   ]
  },
  {
   "cell_type": "code",
   "execution_count": 7,
   "id": "46dbca6b-8b26-44aa-b761-3f47e90cc40a",
   "metadata": {},
   "outputs": [
    {
     "name": "stdin",
     "output_type": "stream",
     "text": [
      "enter weight 23\n"
     ]
    },
    {
     "name": "stdout",
     "output_type": "stream",
     "text": [
      "ok\n"
     ]
    }
   ],
   "source": [
    "try:\n",
    "    weight=int(input('enter weight'))\n",
    "    weighting(weight)\n",
    "except car_weight as e:\n",
    "    print(e)"
   ]
  },
  {
   "cell_type": "code",
   "execution_count": null,
   "id": "e8f27b55-5da6-4f80-a8f0-e127bd835ecb",
   "metadata": {},
   "outputs": [],
   "source": []
  }
 ],
 "metadata": {
  "kernelspec": {
   "display_name": "Python 3 (ipykernel)",
   "language": "python",
   "name": "python3"
  },
  "language_info": {
   "codemirror_mode": {
    "name": "ipython",
    "version": 3
   },
   "file_extension": ".py",
   "mimetype": "text/x-python",
   "name": "python",
   "nbconvert_exporter": "python",
   "pygments_lexer": "ipython3",
   "version": "3.10.8"
  }
 },
 "nbformat": 4,
 "nbformat_minor": 5
}
