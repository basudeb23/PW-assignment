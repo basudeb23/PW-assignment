{
 "cells": [
  {
   "cell_type": "code",
   "execution_count": 6,
   "id": "5186249e-f995-4158-9ec8-552cf8020322",
   "metadata": {},
   "outputs": [],
   "source": [
    "# 1\n",
    "#It refers to showcasing a complex problem in a simplified way\n",
    "from abc import ABC, abstractmethod\n",
    "\n",
    "class Shape(ABC):\n",
    "    @abstractmethod\n",
    "    def draw(self):\n",
    "        pass\n",
    "\n",
    "class Circle(Shape):\n",
    "    def draw(self):\n",
    "        print(\"Drawing a circle\")\n",
    "\n",
    "class Rectangle(Shape):\n",
    "    def draw(self):\n",
    "        print(\"Drawing a rectangle\")\n",
    "\n",
    "circle = Circle()\n",
    "rectangle = Rectangle()\n",
    "\n",
    "\n"
   ]
  },
  {
   "cell_type": "code",
   "execution_count": 7,
   "id": "f089e62c-3340-441a-9b8a-cfe9affe10e1",
   "metadata": {},
   "outputs": [
    {
     "name": "stdout",
     "output_type": "stream",
     "text": [
      "Drawing a circle\n"
     ]
    }
   ],
   "source": [
    "circle.draw()"
   ]
  },
  {
   "cell_type": "code",
   "execution_count": 8,
   "id": "4bc71099-8d87-4eb9-8245-13ef638a0fc0",
   "metadata": {},
   "outputs": [],
   "source": [
    "#2\n",
    "#in abstraction, the main part of the code is represented and in encapsulation, the method and function is bundled and modifiers are used.\n",
    "#example"
   ]
  },
  {
   "cell_type": "code",
   "execution_count": 9,
   "id": "b561c20a-d9ca-41e2-b9d5-1924d1248af0",
   "metadata": {},
   "outputs": [
    {
     "name": "stdout",
     "output_type": "stream",
     "text": [
      "1300\n"
     ]
    }
   ],
   "source": [
    "#encapsulation exmaple\n",
    "class BankAccount:\n",
    "    def __init__(self, account_number, balance):\n",
    "        self.__account_number = account_number  \n",
    "        self.__balance = balance  \n",
    "\n",
    "    def deposit(self, amount):\n",
    "        self.__balance += amount\n",
    "\n",
    "    def withdraw(self, amount):\n",
    "        if amount <= self.__balance:\n",
    "            self.__balance -= amount\n",
    "        else:\n",
    "            print(\"Insufficient balance.\")\n",
    "\n",
    "    def get_balance(self):\n",
    "        return self.__balance\n",
    "\n",
    "\n",
    "account = BankAccount(\"123456789\", 1000)\n",
    "\n",
    "\n",
    "account.deposit(500)\n",
    "account.withdraw(200)\n",
    "\n",
    "print(account.get_balance())  \n"
   ]
  },
  {
   "cell_type": "code",
   "execution_count": 10,
   "id": "86f75eca-75c5-43c6-b396-dfcffbe1a555",
   "metadata": {},
   "outputs": [
    {
     "name": "stdout",
     "output_type": "stream",
     "text": [
      "Meow!\n"
     ]
    }
   ],
   "source": [
    "#abstraction example\n",
    "from abc import ABC, abstractmethod\n",
    "\n",
    "class Animal(ABC):\n",
    "    @abstractmethod\n",
    "    def make_sound(self):\n",
    "        pass\n",
    "\n",
    "class Dog(Animal):\n",
    "    def make_sound(self):\n",
    "        print(\"Woof!\")\n",
    "\n",
    "class Cat(Animal):\n",
    "    def make_sound(self):\n",
    "        print(\"Meow!\")\n",
    "\n",
    "\n",
    "dog = Dog()\n",
    "cat = Cat()\n",
    "\n",
    "\n",
    "  \n",
    "cat.make_sound()  \n"
   ]
  },
  {
   "cell_type": "code",
   "execution_count": 11,
   "id": "4bf2f525-5ae1-453a-a6ed-2eb0014254a5",
   "metadata": {},
   "outputs": [],
   "source": [
    "#3\n",
    "#The abc module in Python stands for \"Abstract Base Classes\".It provides a way to define abstract methods and properties"
   ]
  },
  {
   "cell_type": "code",
   "execution_count": 12,
   "id": "9dc5e53b-9d3c-4e86-b6c3-cb077033e621",
   "metadata": {},
   "outputs": [],
   "source": [
    "#4\n",
    "#We can achieve it by using OOPs such as classes etc."
   ]
  },
  {
   "cell_type": "code",
   "execution_count": null,
   "id": "7ea4d1e4-d659-4b64-a55c-c543aa4698bc",
   "metadata": {},
   "outputs": [],
   "source": [
    "#5\n",
    "#No, we cannot create an instance of an abstract class in Python. \n",
    "#Abstract classes are meant to serve as blueprints for creating derived classes and cannot be instantiated directly."
   ]
  }
 ],
 "metadata": {
  "kernelspec": {
   "display_name": "Python 3 (ipykernel)",
   "language": "python",
   "name": "python3"
  },
  "language_info": {
   "codemirror_mode": {
    "name": "ipython",
    "version": 3
   },
   "file_extension": ".py",
   "mimetype": "text/x-python",
   "name": "python",
   "nbconvert_exporter": "python",
   "pygments_lexer": "ipython3",
   "version": "3.10.8"
  }
 },
 "nbformat": 4,
 "nbformat_minor": 5
}
