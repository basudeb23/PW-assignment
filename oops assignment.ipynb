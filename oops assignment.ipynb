{
 "cells": [
  {
   "cell_type": "code",
   "execution_count": 1,
   "id": "09d55f54-ff0d-4521-b3ef-18f68c134273",
   "metadata": {},
   "outputs": [],
   "source": [
    "#1 Classes are user-defined data types that act as the blueprint for individual objects, attributes and methods. Objects are instances of a class created with specifically defined data."
   ]
  },
  {
   "cell_type": "code",
   "execution_count": 2,
   "id": "50c5bd41-2a49-4cca-ac99-950af74e7855",
   "metadata": {},
   "outputs": [],
   "source": [
    "class stockmarket:\n",
    "    \n",
    "    def __init__(self,number_of_trade, pnl,time_frame):\n",
    "        self.number_of_trade = number_of_trade\n",
    "        self.pnl=pnl\n",
    "        self.time_frame=time_frame\n",
    "    \n",
    "    def return_trader_details(self):\n",
    "        return self.number_of_trade,self.pnl,self.time_frame"
   ]
  },
  {
   "cell_type": "code",
   "execution_count": 3,
   "id": "de791c92-9576-43e8-be13-2eae74e341c5",
   "metadata": {},
   "outputs": [],
   "source": [
    "kunal=stockmarket(2,\"profit\",5)"
   ]
  },
  {
   "cell_type": "code",
   "execution_count": 4,
   "id": "a836cb96-e64d-4810-a8be-b0565f38450b",
   "metadata": {},
   "outputs": [
    {
     "data": {
      "text/plain": [
       "(2, 'profit', 5)"
      ]
     },
     "execution_count": 4,
     "metadata": {},
     "output_type": "execute_result"
    }
   ],
   "source": [
    "kunal.return_trader_details()"
   ]
  },
  {
   "cell_type": "code",
   "execution_count": 5,
   "id": "bf2a5646-bae9-49fd-a6f3-47eecd9cc2f7",
   "metadata": {},
   "outputs": [],
   "source": [
    "#2\n",
    "#there are four major pillars in oops.Inheritance, Polymorphism, Encapsulation and Abstraction."
   ]
  },
  {
   "cell_type": "code",
   "execution_count": 6,
   "id": "1c0e18f5-bda2-4466-9633-b74045adc971",
   "metadata": {},
   "outputs": [],
   "source": [
    "#3\n",
    "#The __init__() function is a special method in Python that is automatically called when an object is created from a class. It stands for \"initialize\" and is used to initialize the attributes of an object. The __init__() method allows you to define how an object should be initialized and specify the initial values for its attributes."
   ]
  },
  {
   "cell_type": "code",
   "execution_count": 7,
   "id": "9b0d3adb-ee08-43ec-a294-b590acdcee8d",
   "metadata": {},
   "outputs": [],
   "source": [
    "#4\n",
    "#  the self keyword is used as a reference to the instance of a class, instead of the word 'self', we can use any word."
   ]
  },
  {
   "cell_type": "code",
   "execution_count": null,
   "id": "a8be2866-ef64-4442-8f0e-bfc68a16d021",
   "metadata": {},
   "outputs": [],
   "source": [
    "#5\n",
    "#Inheritance is a fundamental concept in object-oriented programming (OOP) that allows you to define a new class based on an existing class"
   ]
  }
 ],
 "metadata": {
  "kernelspec": {
   "display_name": "Python 3 (ipykernel)",
   "language": "python",
   "name": "python3"
  },
  "language_info": {
   "codemirror_mode": {
    "name": "ipython",
    "version": 3
   },
   "file_extension": ".py",
   "mimetype": "text/x-python",
   "name": "python",
   "nbconvert_exporter": "python",
   "pygments_lexer": "ipython3",
   "version": "3.10.8"
  }
 },
 "nbformat": 4,
 "nbformat_minor": 5
}
